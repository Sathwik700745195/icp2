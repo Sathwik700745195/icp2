{
  "nbformat": 4,
  "nbformat_minor": 0,
  "metadata": {
    "colab": {
      "provenance": [],
      "authorship_tag": "ABX9TyOAeab9l5WJ1l5XRmelowU9",
      "include_colab_link": true
    },
    "kernelspec": {
      "name": "python3",
      "display_name": "Python 3"
    },
    "language_info": {
      "name": "python"
    }
  },
  "cells": [
    {
      "cell_type": "markdown",
      "metadata": {
        "id": "view-in-github",
        "colab_type": "text"
      },
      "source": [
        "<a href=\"https://colab.research.google.com/github/Sathwik700745195/icp2/blob/main/Untitled0.ipynb\" target=\"_parent\"><img src=\"https://colab.research.google.com/assets/colab-badge.svg\" alt=\"Open In Colab\"/></a>"
      ]
    },
    {
      "cell_type": "code",
      "execution_count": 53,
      "metadata": {
        "colab": {
          "base_uri": "https://localhost:8080/"
        },
        "id": "oZ7MitfJq5RP",
        "outputId": "a6e8d794-141f-43a2-c4d0-d6e7e9228b2e"
      },
      "outputs": [
        {
          "output_type": "stream",
          "name": "stdout",
          "text": [
            "Enter first name: sathwik\n",
            "Enter last name: nitturi\n",
            "sathwik nitturi\n"
          ]
        }
      ],
      "source": [
        "def string_alternative(first_name, last_name): \n",
        "  full_name = first_name + \" \" + last_name \n",
        "  return full_name \n",
        "  \n",
        "def main(): \n",
        "  first_name = input(\"Enter first name: \")\n",
        "  last_name = input(\"Enter last name: \")\n",
        "  full_name = string_alternative(first_name, last_name)\n",
        "  print(full_name) \n",
        "\n",
        "main()"
      ]
    },
    {
      "cell_type": "code",
      "source": [
        "def string_alternative(full_name):\n",
        "  result = \"\"\n",
        "  for i in range(len(full_name)):\n",
        "    if i % 2 == 0:\n",
        "      result = result + full_name[i]\n",
        "  return result\n",
        "\n",
        "full_name = input(\"Enter your full name: \")\n",
        "print(string_alternative(full_name))"
      ],
      "metadata": {
        "colab": {
          "base_uri": "https://localhost:8080/"
        },
        "id": "dii4dnSat5Eq",
        "outputId": "7d93505a-0a55-43c8-bac1-913b3adf6044"
      },
      "execution_count": 54,
      "outputs": [
        {
          "output_type": "stream",
          "name": "stdout",
          "text": [
            "Enter your full name: sathwik nitturi\n",
            "stwkntui\n"
          ]
        }
      ]
    },
    {
      "cell_type": "code",
      "source": [
        "#Python Program \n",
        "\n",
        "#open the file for reading\n",
        "file = open('/input.txt', 'r')\n",
        "\n",
        "#create a dictionary to store the wordcount\n",
        "word_count = {}\n",
        "\n",
        "#iterate over each line of the file\n",
        "for line in file:\n",
        "    #split the line into words\n",
        "    words = line.split()\n",
        "    #iterate over each word\n",
        "    for word in words:\n",
        "        #check if word exists in the word_count dictionary\n",
        "        if word in word_count:\n",
        "            #increment the count if already exists\n",
        "            word_count[word] += 1\n",
        "        else:\n",
        "            #add it to the dictionary with count 1\n",
        "            word_count[word] = 1\n",
        "\n",
        "#print the word_count\n",
        "print(word_count)\n",
        "\n",
        "#Write the word_count to a file\n",
        "with open('output.txt', 'w') as f:\n",
        "    for key, value in word_count.items():\n",
        "        f.write('%s:%s\\n' % (key, value))"
      ],
      "metadata": {
        "colab": {
          "base_uri": "https://localhost:8080/"
        },
        "id": "d3-6LwTDddDy",
        "outputId": "39749f0a-5270-4bec-c3d4-1e885ac6dcfb"
      },
      "execution_count": 56,
      "outputs": [
        {
          "output_type": "stream",
          "name": "stdout",
          "text": [
            "{'python': 1, 'course': 2, 'deep': 1, 'learning': 1}\n"
          ]
        }
      ]
    },
    {
      "cell_type": "code",
      "source": [
        "inc = []\n",
        "i = 1\n",
        "b = input(\"enter height \\n\")\n",
        "inc.append(b)\n",
        "while b != \"\":\n",
        "    i = i + 1\n",
        "    b = input(\"Enter Height \\n\")  # Interactive Loop\n",
        "    if b != \"\":\n",
        "        inc.append(b)\n",
        "    else:\n",
        "        cm = [(int(i) * 2.54) for i in inc]     # List Comprehension\n",
        "        print(cm)"
      ],
      "metadata": {
        "colab": {
          "base_uri": "https://localhost:8080/"
        },
        "id": "4XubBgdlKLsk",
        "outputId": "c2423d5c-3d93-40e2-d04b-eff2eb093a37"
      },
      "execution_count": 57,
      "outputs": [
        {
          "output_type": "stream",
          "name": "stdout",
          "text": [
            "enter height \n",
            "60\n",
            "Enter Height \n",
            "65\n",
            "Enter Height \n",
            "\n",
            "[152.4, 165.1]\n"
          ]
        }
      ]
    }
  ]
}